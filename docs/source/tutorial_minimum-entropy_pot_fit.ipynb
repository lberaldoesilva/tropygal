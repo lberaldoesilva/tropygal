{
 "cells": [
  {
   "cell_type": "markdown",
   "id": "820dffa1-2d3f-4561-b2fc-0dc63e30b401",
   "metadata": {},
   "source": [
    "# Minimum-entropy fit of the isochrone potential\n",
    "\n",
    "Here we fit a gravitational potential of the isochrone model using the kinematics of a sample in equilibrium in the correct potential, but without assuming any functional form for the tracers' distribution function (DF). It only assumes that the DF is a function of actions evaluated in each trial potential, which would be the case if orbits were integrated in each trial potential until complete phase-mixing. The correct potential is recovered as the one with minimum final (or future) entropy. The physical basis of the method is explained in [Beraldo e Silva et al. (2025)](https://ui.adsabs.harvard.edu/abs/2024arXiv240707947B/abstract).\n",
    "\n",
    "This code uses the [agama](https://github.com/GalacticDynamics-Oxford/Agama) package to generate an equilibrium sample and to estimate the potential and action-variables, but any other library, such as [gala](http://gala.adrian.pw/en/latest/) or [galpy](https://www.galpy.org/), or personal code could be used for these tasks instead.\n",
    "\n",
    "It fits the potential based on the original dataset and then later fits for a number of bootstrap samples. At the end, it shows the results based on the single (original) dataset, on each bootstrap sample and on averaging over all datasets. The plot gives an indication of how the log-likelihood surface would look like around the best if the correct functional form of the DF were specified (and then one would have a bona fide log-likelihood, which is not the case here since no DF is assumed). "
   ]
  },
  {
   "cell_type": "code",
   "execution_count": 1,
   "id": "e080ef56-806b-4585-b36c-603c35ed2047",
   "metadata": {},
   "outputs": [],
   "source": [
    "import numpy as np\n",
    "from scipy import optimize\n",
    "import matplotlib.pyplot as plt\n",
    "plt.rcParams['figure.dpi'] = 60\n",
    "import tropygal\n",
    "import agama\n",
    "\n",
    "from matplotlib.ticker import ScalarFormatter, NullFormatter\n",
    "\n",
    "params = {'axes.labelsize': 24, \n",
    "          'xtick.labelsize': 20, \n",
    "          'xtick.direction': 'in',\n",
    "          'xtick.major.size': 8.0,\n",
    "          'xtick.bottom': 1,\n",
    "          'xtick.top': 1,\n",
    "          'ytick.labelsize': 20, \n",
    "          'ytick.direction': 'in',\n",
    "          'ytick.major.size': 8.0,\n",
    "          'ytick.left': 1,\n",
    "          'ytick.right': 1,\n",
    "#           'xtick.which': 'both',\n",
    "          'text.usetex': True, \n",
    "          'lines.linewidth': 1,\n",
    "          'axes.titlesize': 32,\n",
    "          'font.family': 'serif'}\n",
    "plt.rcParams.update(params)\n",
    "columnwidth = 240./72.27\n",
    "textwidth = 504.0/72.27\n",
    "\n",
    "%matplotlib inline\n",
    "%config InlineBackend.figure_format = 'retina'"
   ]
  },
  {
   "cell_type": "markdown",
   "id": "8b0af6b0-c0a7-4fad-9f17-991e5252c5ca",
   "metadata": {},
   "source": [
    "## Function to return entropy"
   ]
  },
  {
   "cell_type": "code",
   "execution_count": 2,
   "id": "a81b29e6-c2c9-45e4-bf13-d99911fc8c3c",
   "metadata": {},
   "outputs": [],
   "source": [
    "def func_S_J(params, pos, vel, k=1):\n",
    "    \"\"\" \n",
    "    Returns the entropy of the sample in each trial potential.\n",
    "    It uses agama to estimate the potential and action-variables\n",
    " \n",
    "    Parameters\n",
    "    ---------- \n",
    "    params: array\n",
    "            parameters of the trial potential\n",
    "    pos: array\n",
    "         (x, y, z) spatial coordinates\n",
    "    vel: array\n",
    "         (vx, vy, vz) velocity coordinates\n",
    "    k: int\n",
    "       kNN, which neighbor to take\n",
    "\n",
    "    Returns\n",
    "    -------\n",
    "    float number\n",
    "    The entropy of the sample assuming the DF is a function of actions\n",
    "   \n",
    "    \"\"\"\n",
    "\n",
    "    M, b = params\n",
    "    prior = (M > 0) & (b>0)\n",
    "    if (prior == False):\n",
    "        return np.inf\n",
    "\n",
    "    pot = agama.Potential(type='Isochrone', mass=M, scaleRadius=b)\n",
    "    v2 = vel[:,0]**2 + vel[:,1]**2 + vel[:,2]**2\n",
    "    E = pot.potential(pos) + 0.5*v2\n",
    "\n",
    "    # Only consider models where all particles are bound\n",
    "    if np.all(E<0):\n",
    "        actF = agama.ActionFinder(pot) # action finder\n",
    "        coords = np.column_stack([pos, vel])\n",
    "        # calc actions: \n",
    "        J = actF(coords, actions=True, frequencies=False, angles=False)\n",
    "        sigma_J = np.array([0.5*(np.percentile(action, 84) - np.percentile(action, 16)) for action in J.T])\n",
    "        S_J = tropygal.entropy(J/sigma_J, mu=_2pi3*np.prod(sigma_J), k=k, correct_bias=True)\n",
    "        return S_J\n",
    "    else:\n",
    "        return np.inf"
   ]
  },
  {
   "cell_type": "markdown",
   "id": "0d9b04f4-74d7-4357-9d43-4bcbf6f81f73",
   "metadata": {},
   "source": [
    "## Generate IC"
   ]
  },
  {
   "cell_type": "code",
   "execution_count": 3,
   "id": "2d640936-bb89-4100-bf6f-9514f6fe831d",
   "metadata": {},
   "outputs": [
    {
     "name": "stdout",
     "output_type": "stream",
     "text": [
      "agama.G: 1.0\n"
     ]
    }
   ],
   "source": [
    "_2pi3 = (2.*np.pi)**3\n",
    "print ('agama.G:', agama.G)\n",
    "\n",
    "# True values of parameters:\n",
    "M0 = 1. # total mass\n",
    "b0 = 1. # scale length\n",
    "\n",
    "n_orbs = int(10_000*10./7)\n",
    "n_boots = 100\n",
    "#n_boots = 10_000 \n",
    "\n",
    "# Generate IC \n",
    "pot_0 = agama.Potential(type='Isochrone', mass=M0, scaleRadius=b0)\n",
    "isoc_data, _ = pot_0.sample(n_orbs, potential=pot_0)\n",
    "\n",
    "x  = isoc_data[:,0]; y  = isoc_data[:,1]; z  = isoc_data[:,2]\n",
    "vx = isoc_data[:,3]; vy = isoc_data[:,4]; vz = isoc_data[:,5]\n",
    "\n",
    "v2 = vx**2 + vy**2 + vz**2\n",
    "pos = np.column_stack((x, y, z))\n",
    "E = pot_0.potential(pos) + 0.5*v2"
   ]
  },
  {
   "cell_type": "markdown",
   "id": "f03adafa-fd2e-4275-b142-bd852ad30c57",
   "metadata": {},
   "source": [
    "## Select 70% more bound stars"
   ]
  },
  {
   "cell_type": "code",
   "execution_count": 4,
   "id": "14bc2768-248a-49f5-96a3-7b3fbda4c4e7",
   "metadata": {},
   "outputs": [],
   "source": [
    "# This is just to probe a larger range of parameters, \n",
    "# since we only consider models where all particles are bound\n",
    "E_cut = np.percentile(E, 70)\n",
    "cut = E<E_cut\n",
    "\n",
    "x  = x[cut];  y  = y[cut];  z  = z[cut]\n",
    "vx = vx[cut]; vy = vy[cut]; vz = vz[cut]\n",
    "E = E[cut]\n",
    "\n",
    "pos = pos[cut]\n",
    "vel = np.column_stack((vx, vy, vz))\n",
    "v2 = v2[cut]\n",
    "\n",
    "data_0 = np.column_stack((pos, vel))"
   ]
  },
  {
   "cell_type": "markdown",
   "id": "5b1e27c6-4b67-40b1-ad64-0c76ce68dd46",
   "metadata": {},
   "source": [
    "## Define parameters and bins"
   ]
  },
  {
   "cell_type": "code",
   "execution_count": 5,
   "id": "25b736e8-30d1-4ec4-a973-3719dd3eb374",
   "metadata": {},
   "outputs": [
    {
     "name": "stdout",
     "output_type": "stream",
     "text": [
      "kNN: 10\n"
     ]
    }
   ],
   "source": [
    "kNN = 10 # which neighbor we take\n",
    "print ('kNN:', kNN)\n",
    "\n",
    "# Bins for initial guess of parameters in the minimization\n",
    "nbins_M0 = 4\n",
    "nbins_b0 = 4\n",
    "\n",
    "M0_min = 0.1\n",
    "M0_max = 5\n",
    "b0_min = 0.1\n",
    "b0_max = 5\n",
    "\n",
    "bin_edges_M0 = np.linspace(M0_min, M0_max, nbins_M0+1)\n",
    "bins_M0 = 0.5*(bin_edges_M0[:-1] + bin_edges_M0[1:])\n",
    "d_M0 = bin_edges_M0[1] - bin_edges_M0[0]\n",
    "\n",
    "bin_edges_b0 = np.linspace(b0_min, b0_max, nbins_b0+1)\n",
    "bins_b0 = 0.5*(bin_edges_b0[:-1] + bin_edges_b0[1:])\n",
    "d_b0 = bin_edges_b0[1] - bin_edges_b0[0]\n",
    "\n",
    "p0 = np.stack(np.meshgrid(bins_M0, bins_b0), -1).reshape(-1, 2)\n",
    "\n",
    "p_bf = np.full((n_boots+1, 2), np.nan) # best fit params for each bootstrap \n",
    "S_bf = np.full(n_boots+1, 1e+18) # best fit entropy for each bootstrap"
   ]
  },
  {
   "cell_type": "markdown",
   "id": "4b11198a-ddb7-4265-8f76-ee858fa5c578",
   "metadata": {},
   "source": [
    "## Fit for original and each bootstrap sample"
   ]
  },
  {
   "cell_type": "code",
   "execution_count": 6,
   "id": "3eb9f669-ca4e-4a8a-8a21-71d6859d1b1c",
   "metadata": {},
   "outputs": [
    {
     "name": "stdout",
     "output_type": "stream",
     "text": [
      "------------------\n",
      "i: 0\n",
      "p_bf: [0.99576392 1.00270952]\n",
      "S_bf: 5.073541012150837\n",
      "------------------\n",
      "i: 10\n",
      "p_bf: [1.09286465 1.14831967]\n",
      "S_bf: 4.928523148860233\n",
      "------------------\n",
      "i: 20\n",
      "p_bf: [1.02891474 1.07959601]\n",
      "S_bf: 4.95576687441341\n",
      "------------------\n",
      "i: 30\n",
      "p_bf: [1.01102442 1.00977167]\n",
      "S_bf: 4.935132274893547\n",
      "------------------\n",
      "i: 40\n",
      "p_bf: [0.95547873 0.99210026]\n",
      "S_bf: 4.9526452143821995\n",
      "------------------\n",
      "i: 50\n",
      "p_bf: [1.05525371 1.13274706]\n",
      "S_bf: 4.928570053732455\n",
      "------------------\n",
      "i: 60\n",
      "p_bf: [1.10375283 1.15687206]\n",
      "S_bf: 4.975708414918156\n",
      "------------------\n",
      "i: 70\n",
      "p_bf: [1.00307599 1.02821077]\n",
      "S_bf: 4.91799337456435\n",
      "------------------\n",
      "i: 80\n",
      "p_bf: [0.94204668 0.92534012]\n",
      "S_bf: 4.9464368706042965\n",
      "------------------\n",
      "i: 90\n",
      "p_bf: [0.90636963 0.91897152]\n",
      "S_bf: 4.967463045430173\n",
      "------------------\n",
      "i: 100\n",
      "p_bf: [0.95367464 0.95481824]\n",
      "S_bf: 4.966862572456148\n"
     ]
    }
   ],
   "source": [
    "# Do minimum-entropy fit for single sample, but several times, each bootstrap at a time:\n",
    "for i in range(n_boots+1):\n",
    "    #print ('------------------')\n",
    "    #print ('Starting bootstrap ', i)\n",
    "    if (i==0): # For the first, it's the original dataset\n",
    "        data = data_0.copy()\n",
    "    else: # otherwise, bootstrap:\n",
    "        data = data_0[np.random.choice(len(data_0), size=len(data_0), replace=True)]\n",
    "\n",
    "    x  = data[:,0]; y  = data[:,1]; z  = data[:,2]\n",
    "    vx = data[:,3]; vy = data[:,4]; vz = data[:,5]\n",
    "\n",
    "    v2 = vx**2 + vy**2 + vz**2\n",
    "    pos = np.column_stack((x, y, z))\n",
    "    vel = np.column_stack((vx, vy, vz))\n",
    "    # ----------------------------  \n",
    "    p_J = np.zeros_like(p0)\n",
    "    S_J = np.full(len(p0), 1e+18)\n",
    "    func_evals_J = np.zeros(len(p0))\n",
    "    # ----------------------------  \n",
    "    for j in range(len(p0)): \n",
    "        this_M0 = p0[j, 0]\n",
    "        this_b0 = p0[j, 1]\n",
    "        pot = agama.Potential(type='Isochrone', mass = this_M0, scaleRadius = this_b0)\n",
    "        # only consider models with initial guess of parameters where all particles are bound:\n",
    "        E = pot.potential(pos) + 0.5*v2\n",
    "        if np.all(E < 0):\n",
    "            initial_simplex = [p0[j],                         # First vertex: the initial guess\n",
    "                               p0[j] + [this_M0 + d_M0, 0],   # Second vertex: offset x[0] by d_M0 \n",
    "                               p0[j] + [0, this_b0 + d_b0]]\n",
    "            res = optimize.minimize(func_S_J, p0[j], args=(pos, vel, kNN),\n",
    "                                    method='Nelder-Mead',\n",
    "                                    options={'initial_simplex': initial_simplex, \"maxfev\":500, \"xatol\":1e-3, \"fatol\":1e-3}) # Downhill Simplex for Max Likelihood \n",
    "            # Best fit for this initial guess, and for this bootstrap sample: \n",
    "            p_J[j] = res.x\n",
    "            S_J[j] = res.fun\n",
    "            func_evals_J[j] = res.nfev\n",
    "    idx_min = S_J.argmin()\n",
    "    # best fit among all initial guesses, for this bootstrapped sample:\n",
    "    p_bf[i] = p_J[idx_min]\n",
    "    S_bf[i] = S_J[idx_min]\n",
    "\n",
    "    if (i%10 ==0):\n",
    "        print ('------------------')\n",
    "        print ('i:', i)\n",
    "        print ('p_bf:', p_bf[i])\n",
    "        print ('S_bf:', S_bf[i])"
   ]
  },
  {
   "cell_type": "markdown",
   "id": "bd788fa0-cb51-4523-9a93-0950a41308cb",
   "metadata": {},
   "source": [
    "## Best fit results"
   ]
  },
  {
   "cell_type": "code",
   "execution_count": 7,
   "id": "6bbd7860-759e-411a-b548-a4c4150d7042",
   "metadata": {},
   "outputs": [
    {
     "name": "stdout",
     "output_type": "stream",
     "text": [
      "<M>: 0.9872230060864446 ± 0.05886773430277403\n",
      "<b>: 1.0025291597699255 ± 0.07301148394586504\n"
     ]
    }
   ],
   "source": [
    "#print ('p_bf:', p_bf)\n",
    "#print ('S_bf:', S_bf)\n",
    "\n",
    "# Best fit averaging over all data realizations (bootstraps):\n",
    "print ('<M>:', np.percentile(p_bf[:,0], 50), '±', 0.5*(np.percentile(p_bf[:, 0], 84) - np.percentile(p_bf[:, 0], 16)))\n",
    "print ('<b>:', np.percentile(p_bf[:,1], 50), '±', 0.5*(np.percentile(p_bf[:, 1], 84) - np.percentile(p_bf[:, 1], 16)))"
   ]
  },
  {
   "cell_type": "markdown",
   "id": "5f554be2-1098-4ffe-a81c-8132a5636cb0",
   "metadata": {},
   "source": [
    "## Save best fit results"
   ]
  },
  {
   "cell_type": "code",
   "execution_count": 8,
   "id": "3775d0fe-34b6-442e-8a6e-155285ef1778",
   "metadata": {},
   "outputs": [],
   "source": [
    "# Save best fit parameters for each bootstrap data realization: \n",
    "\n",
    "file_name = './fit_results_isoc_boots_k10.dat'\n",
    "file_out = open(file_name, 'w')\n",
    "file_out.write('#       M_bf             b_bf         S_bf\\n')\n",
    "np.savetxt(file_out, np.column_stack([p_bf[:,0], p_bf[:,1], S_bf]), fmt=' %17.8e'*3)\n",
    "file_out.close()"
   ]
  },
  {
   "cell_type": "markdown",
   "id": "cefe1758-364f-4005-a8f4-c9d01fea84b6",
   "metadata": {},
   "source": [
    "## Plot"
   ]
  },
  {
   "cell_type": "code",
   "execution_count": 9,
   "id": "bafb7a52-b5b8-435a-9e35-fecf9620f5e7",
   "metadata": {},
   "outputs": [
    {
     "name": "stdout",
     "output_type": "stream",
     "text": [
      "Original data:\n",
      "M_0: 0.9957639204643787\n",
      "b_0: 1.002709517712356\n",
      "-------\n",
      "Bootstraps:\n",
      "M_bf: 0.987223006 ± 0.05886773549999996\n",
      "b_bf: 1.00252916 ± 0.07301148599999996\n",
      "101 fits\n"
     ]
    }
   ],
   "source": [
    "fname = './fit_results_isoc_boots_k10.dat'\n",
    "data_file = np.genfromtxt(fname, unpack=True, skip_header=1)\n",
    "M_bfs = data_file[0]\n",
    "b_bfs = data_file[1]\n",
    "#S_bfs = data_file[2]\n",
    "\n",
    "# M_bfs = p_bf[:,0]\n",
    "# b_bfs = p_bf[:,1]\n",
    "# Original data:\n",
    "M_0 = p_bf[0,0]\n",
    "b_0 = p_bf[0,1]\n",
    "print ('Original data:')\n",
    "print ('M_0:', M_0)\n",
    "print ('b_0:', b_0)\n",
    "\n",
    "# bootstraps:\n",
    "mean_M = np.percentile(M_bfs, 50)\n",
    "sigma_M = 0.5*(np.percentile(M_bfs, 84) - np.percentile(M_bfs, 16))\n",
    "\n",
    "mean_b = np.percentile(b_bfs, 50)\n",
    "sigma_b = 0.5*(np.percentile(b_bfs, 84) - np.percentile(b_bfs, 16))\n",
    "print('-------')\n",
    "print('Bootstraps:')\n",
    "print ('M_bf:', mean_M, '±', sigma_M)\n",
    "print ('b_bf:', mean_b, '±', sigma_b)\n",
    "\n",
    "print (len(M_bfs), 'fits')"
   ]
  },
  {
   "cell_type": "code",
   "execution_count": 10,
   "id": "c27dd9f4-d520-469c-a250-bbe702203cb9",
   "metadata": {},
   "outputs": [],
   "source": [
    "M_min = 0.5\n",
    "M_max =1.5\n",
    "b_min = 0.5\n",
    "b_max = 1.5"
   ]
  },
  {
   "cell_type": "code",
   "execution_count": 11,
   "id": "60dd832d-61a7-4b73-9483-0a36263c4caf",
   "metadata": {},
   "outputs": [
    {
     "data": {
      "image/png": "[encoded data removed]",
      "text/plain": [
       "<Figure size 480x420 with 1 Axes>"
      ]
     },
     "metadata": {
      "image/png": {
       "height": 413,
       "width": 465
      }
     },
     "output_type": "display_data"
    }
   ],
   "source": [
    "# Plot\n",
    "fig, axs = plt.subplots(1, figsize=(8,7))\n",
    "fig.patch.set_facecolor('white')\n",
    "\n",
    "\n",
    "axs.plot(M_bfs[0], b_bfs[0], 'ro', ms=16, alpha=0.7,\n",
    "         label=r'original data: $(M_\\mathrm{0}, b_\\mathrm{0}) = (%.3f, %.3f)$'%(M_0, b_0))\n",
    "axs.plot(M_bfs, b_bfs, 'k.', label=r'%d bootstraps'%(n_boots))\n",
    "axs.plot(mean_M, mean_b, 'g^', ms=12, alpha=0.7,\n",
    "         label=r'$(\\langle M\\rangle, \\langle b\\rangle) = (%.3f, %.3f) \\pm (%.3f, %.3f)$'%(mean_M, mean_b, sigma_M, sigma_b))\n",
    "axs.axvline(1, color='#4682b4', linewidth=1, linestyle='-')\n",
    "axs.axhline(1, color='#4682b4', linewidth=1, linestyle='-')\n",
    "\n",
    "axs.axis([M_min, M_max, b_min, b_max])\n",
    "axs.set_xlabel(r'$M$')\n",
    "axs.set_ylabel(r'$b$')\n",
    "\n",
    "axs.set_title(r'Isochrone potential: $N\\approx 10^4; k=%d$'%(kNN), fontsize=34)\n",
    "axs.legend(fontsize=22)\n",
    "plt.tight_layout()\n",
    "\n",
    "# plt.show()\n",
    "#plt.savefig('./fit_isoc_100_boots_10k_k10.pdf', format='pdf', dpi=300)"
   ]
  },
  {
   "cell_type": "code",
   "execution_count": null,
   "id": "15f51148-c337-4be0-bb83-2a8d0a316284",
   "metadata": {},
   "outputs": [],
   "source": []
  }
 ],
 "metadata": {
  "kernelspec": {
   "display_name": "Python 3 (ipykernel)",
   "language": "python",
   "name": "python3"
  },
  "language_info": {
   "codemirror_mode": {
    "name": "ipython",
    "version": 3
   },
   "file_extension": ".py",
   "mimetype": "text/x-python",
   "name": "python",
   "nbconvert_exporter": "python",
   "pygments_lexer": "ipython3",
   "version": "3.11.8"
  }
 },
 "nbformat": 4,
 "nbformat_minor": 5
}
